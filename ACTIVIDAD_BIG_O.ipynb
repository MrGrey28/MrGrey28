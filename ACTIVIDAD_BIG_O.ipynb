{
  "nbformat": 4,
  "nbformat_minor": 0,
  "metadata": {
    "colab": {
      "provenance": []
    },
    "kernelspec": {
      "name": "python3",
      "display_name": "Python 3"
    },
    "language_info": {
      "name": "python"
    }
  },
  "cells": [
    {
      "cell_type": "code",
      "execution_count": 1,
      "metadata": {
        "colab": {
          "base_uri": "https://localhost:8080/"
        },
        "id": "cXhV6REjac0B",
        "outputId": "55e3ea07-8ba9-4251-967d-95504c522112"
      },
      "outputs": [
        {
          "output_type": "stream",
          "name": "stdout",
          "text": [
            "Lista original: [64, 34, 25, 12, 22, 11, 90]\n",
            "Lista ordenada (Burbuja): [11, 12, 22, 25, 34, 64, 90]\n",
            "Lista ordenada (Selección): [11, 12, 22, 25, 34, 64, 90]\n",
            "Lista ordenada (Inserción): [11, 12, 22, 25, 34, 64, 90]\n"
          ]
        }
      ],
      "source": [
        "# Función para ordenar una lista usando el algoritmo de Burbuja\n",
        "def bubble_sort(arr):\n",
        "    n = len(arr)  # Obten la longitud de la lista\n",
        "\n",
        "    for i in range(n):  # Itera desde el principio hasta el final de la lista\n",
        "        for j in range(0, n-i-1):  # Itera desde el principio hasta el elemento anterior al final de la lista\n",
        "            if arr[j] > arr[j+1]:  # Si el elemento actual es mayor que el siguiente\n",
        "                arr[j], arr[j+1] = arr[j+1], arr[j]  # Intercambia los elementos\n",
        "    return arr  # Regresa la lista ordenada\n",
        "\n",
        "# Función para ordenar una lista usando el algoritmo de Selección\n",
        "def selection_sort(arr):\n",
        "    n = len(arr)  # Obten la longitud de la lista\n",
        "\n",
        "    for i in range(n):  # Itera desde el principio hasta el final de la lista\n",
        "        min_idx = i  # Inicializa la posición del elemento mínimo en i\n",
        "        for j in range(i+1, n):  # Itera desde el siguiente elemento hasta el final de la lista\n",
        "            if arr[j] < arr[min_idx]:  # Si el elemento actual es menor que el mínimo actual\n",
        "                min_idx = j  # Actualiza la posición del elemento mínimo\n",
        "        arr[i], arr[min_idx] = arr[min_idx], arr[i]  # Intercambia el elemento mínimo con el elemento actual\n",
        "    return arr  # Regresa la lista ordenada\n",
        "\n",
        "# Función para ordenar una lista usando el algoritmo de Inserción\n",
        "def insertion_sort(arr):\n",
        "    n = len(arr)  # Obten la longitud de la lista\n",
        "\n",
        "    for i in range(1, n):  # Itera desde el segundo elemento hasta el final de la lista\n",
        "        key = arr[i]  # Guarda el elemento actual en una variable\n",
        "        j = i-1  # Inicializa una variable para iterar desde el elemento anterior al actual hasta el principio de la lista\n",
        "        while j >= 0 and arr[j] > key:  # Mientras j sea mayor o igual a 0 y el elemento actual sea mayor que el elemento en j\n",
        "            arr[j+1] = arr[j]  # Mueve el elemento en j al siguiente lugar\n",
        "            j -= 1  # Decrementa j\n",
        "        arr[j+1] = key  # Coloca el elemento actual en su posición correcta en la lista\n",
        "    return arr  # Regresa la lista ordenada\n",
        "\n",
        "# Ejemplo de uso\n",
        "arr = [64, 34, 25, 12, 22, 11, 90]  # Lista de números para ordenar\n",
        "print(\"Lista original:\", arr)\n",
        "\n",
        "arr = bubble_sort(arr)\n",
        "print(\"Lista ordenada (Burbuja):\", arr)\n",
        "\n",
        "arr = selection_sort(arr)\n",
        "print(\"Lista ordenada (Selección):\", arr)\n",
        "\n",
        "arr = insertion_sort(arr)\n",
        "print(\"Lista ordenada (Inserción):\", arr)"
      ]
    }
  ]
}