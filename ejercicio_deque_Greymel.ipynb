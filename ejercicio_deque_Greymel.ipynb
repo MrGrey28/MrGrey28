{
  "nbformat": 4,
  "nbformat_minor": 0,
  "metadata": {
    "colab": {
      "provenance": []
    },
    "kernelspec": {
      "name": "python3",
      "display_name": "Python 3"
    },
    "language_info": {
      "name": "python"
    }
  },
  "cells": [
    {
      "cell_type": "code",
      "execution_count": 3,
      "metadata": {
        "colab": {
          "base_uri": "https://localhost:8080/"
        },
        "id": "w8Qnlz0amWRx",
        "outputId": "397da202-7e73-4a87-aa28-f028cc0e98d4"
      },
      "outputs": [
        {
          "output_type": "stream",
          "name": "stdout",
          "text": [
            "Ingrese un elemento: hola\n",
            "Ingrese un elemento: como estas\n",
            "Ingrese un elemento: muy bien, y tu\n",
            "Deque actual: ['hola', 'como estas', 'muy bien, y tu'] \n",
            "Primer elemento removido: hola\n",
            "Ultimo elemento removido: muy bien, y tu\n",
            "Deque actual (primer y último elementos removidos): ['como estas'] \n"
          ]
        }
      ],
      "source": [
        "class Deque:\n",
        "    def __init__(self):\n",
        "        self.__deque = []\n",
        "\n",
        "    def agg_primero(self, item):\n",
        "        self.__deque.insert(0, item)\n",
        "\n",
        "    def remove_primero(self):\n",
        "        if not self.esta_vacio():\n",
        "            return self.__deque.pop(0)\n",
        "        else:\n",
        "            raise IndexError(\"Deque vacio, no se puede remover el primer elemento. \")\n",
        "\n",
        "    def agg_ultimo(self, item):\n",
        "        self.__deque.append(item)\n",
        "\n",
        "    def remove_ultimo(self):\n",
        "        if not self.esta_vacio():\n",
        "            return self.__deque.pop()\n",
        "        else:\n",
        "            raise IndexError(\"Deque vacio, no se puede remover el ultimo elemento. \")\n",
        "\n",
        "    def esta_vacio(self):\n",
        "        return len(self.__deque) == 0\n",
        "\n",
        "    def tamano(self):\n",
        "        return len(self.__deque)\n",
        "\n",
        "    def __str__(self):\n",
        "        return str(self.__deque)\n",
        "\n",
        "deque = Deque()\n",
        "\n",
        "ro = input(\"Ingrese un elemento: \")\n",
        "do = input(\"Ingrese un elemento: \")\n",
        "roo = input(\"Ingrese un elemento: \")\n",
        "deque.agg_primero(ro)\n",
        "deque.agg_ultimo(do)\n",
        "deque.agg_ultimo(roo)\n",
        "\n",
        "print(f\"Deque actual: {deque} \")\n",
        "\n",
        "primer_elemento = deque.remove_primero()\n",
        "ultimo_elemento = deque.remove_ultimo()\n",
        "\n",
        "print(f\"Primer elemento removido: {primer_elemento}\")\n",
        "print(f\"Ultimo elemento removido: {ultimo_elemento}\")\n",
        "\n",
        "print(f\"Deque actual (primer y último elementos removidos): {deque} \")"
      ]
    }
  ]
}